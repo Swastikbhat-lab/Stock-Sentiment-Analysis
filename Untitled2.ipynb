{
  "nbformat": 4,
  "nbformat_minor": 0,
  "metadata": {
    "colab": {
      "provenance": [],
      "authorship_tag": "ABX9TyPVEhi9pAyyhAolyUyxnBM+",
      "include_colab_link": true
    },
    "kernelspec": {
      "name": "python3",
      "display_name": "Python 3"
    },
    "language_info": {
      "name": "python"
    }
  },
  "cells": [
    {
      "cell_type": "markdown",
      "metadata": {
        "id": "view-in-github",
        "colab_type": "text"
      },
      "source": [
        "<a href=\"https://colab.research.google.com/github/Swastikbhat-lab/Stock-Sentiment-Analysis/blob/main/Untitled2.ipynb\" target=\"_parent\"><img src=\"https://colab.research.google.com/assets/colab-badge.svg\" alt=\"Open In Colab\"/></a>"
      ]
    },
    {
      "cell_type": "code",
      "execution_count": 4,
      "metadata": {
        "colab": {
          "base_uri": "https://localhost:8080/"
        },
        "id": "8_WxN_dSwYNu",
        "outputId": "85d487b0-cbc3-4ccc-ece8-c6b78dc0af7a"
      },
      "outputs": [
        {
          "output_type": "stream",
          "name": "stderr",
          "text": [
            "[nltk_data] Downloading package stopwords to /root/nltk_data...\n",
            "[nltk_data]   Package stopwords is already up-to-date!\n"
          ]
        },
        {
          "output_type": "stream",
          "name": "stdout",
          "text": [
            "Model Accuracy: 0.5303\n",
            "Sentiment for the example sentence: Bearish\n"
          ]
        }
      ],
      "source": [
        "# Link to Open in Colab\n",
        "# ![Open In Colab](https://colab.research.google.com/assets/colab-badge.svg)\n",
        "\n",
        "# # Stock Sentiment Analysis\n",
        "\n",
        "# This notebook aims to predict whether a stock is bullish or bearish based on sentiment data.\n",
        "\n",
        "## Import Libraries\n",
        "import nltk\n",
        "import re\n",
        "import string\n",
        "import pandas as pd\n",
        "import numpy as np\n",
        "from nltk.corpus import stopwords\n",
        "from sklearn.linear_model import LogisticRegression\n",
        "from sklearn.model_selection import train_test_split\n",
        "from sklearn.metrics import accuracy_score\n",
        "\n",
        "# Download necessary NLTK data\n",
        "nltk.download('stopwords')\n",
        "\n",
        "## Load Data\n",
        "# Assuming the CSV file is uploaded in Colab environment\n",
        "data = pd.read_csv('/content/Sentiment_Stock_data.csv')\n",
        "\n",
        "# Display the first few rows of the dataset\n",
        "data.head()\n",
        "\n",
        "## Preprocess Text Data\n",
        "def process_stock_sentence(sentence):\n",
        "    if not isinstance(sentence, str):\n",
        "        sentence = str(sentence)  # Convert to string if not already\n",
        "    stemmer = nltk.PorterStemmer()\n",
        "    stopwords_english = stopwords.words('english')\n",
        "    sentence = re.sub(r'\\$[A-Za-z]+', '', sentence)  # Remove stock symbols\n",
        "    sentence = re.sub(r'https?:\\/\\/.*[\\r\\n]*', '', sentence)  # Remove URLs\n",
        "    sentence = re.sub(r'#', '', sentence)  # Remove hashtags\n",
        "    tokenizer = nltk.TweetTokenizer(preserve_case=False, strip_handles=True, reduce_len=True)\n",
        "    tokens = tokenizer.tokenize(sentence)\n",
        "\n",
        "    clean_tokens = [stemmer.stem(word) for word in tokens if word not in stopwords_english and word not in string.punctuation]\n",
        "    return clean_tokens\n",
        "\n",
        "## Feature Engineering\n",
        "def build_stock_freqs(sentences, sentiments):\n",
        "    freqs = {}\n",
        "    for sentence, sentiment in zip(sentences, sentiments):\n",
        "        for word in process_stock_sentence(sentence):\n",
        "            pair = (word, sentiment)\n",
        "            if pair in freqs:\n",
        "                freqs[pair] += 1\n",
        "            else:\n",
        "                freqs[pair] = 1\n",
        "    return freqs\n",
        "\n",
        "def extract_features(sentence, freqs):\n",
        "    word_l = process_stock_sentence(sentence)\n",
        "    x = np.zeros(3)\n",
        "    x[0] = 1\n",
        "\n",
        "    for word in word_l:\n",
        "        x[1] += freqs.get((word, 1.0), 0)\n",
        "        x[2] += freqs.get((word, 0.0), 0)\n",
        "    return x\n",
        "\n",
        "## Train Model\n",
        "def train_stock_sentiment_model(sentences, sentiments):\n",
        "    freqs = build_stock_freqs(sentences, sentiments)\n",
        "    X = np.zeros((len(sentences), 3))\n",
        "    y = np.array(sentiments)\n",
        "\n",
        "    for i, sentence in enumerate(sentences):\n",
        "        X[i, :] = extract_features(sentence, freqs)\n",
        "\n",
        "    model = LogisticRegression()\n",
        "    model.fit(X, y)\n",
        "    return model, freqs\n",
        "\n",
        "## Predict Sentiment\n",
        "def predict_stock_sentiment(sentence, model, freqs):\n",
        "    features = extract_features(sentence, freqs)\n",
        "    sentiment = model.predict(features.reshape(1, -1))[0]\n",
        "    return 'Bullish' if sentiment == 1 else 'Bearish'\n",
        "\n",
        "## Example Usage\n",
        "# Split data into training and testing sets\n",
        "sentences = data['Sentence'].values\n",
        "sentiments = data['Sentiment'].values\n",
        "train_x, test_x, train_y, test_y = train_test_split(sentences, sentiments, test_size=0.2, random_state=42)\n",
        "\n",
        "# Train the model\n",
        "model, freqs = train_stock_sentiment_model(train_x, train_y)\n",
        "\n",
        "# Test the model\n",
        "predictions = [predict_stock_sentiment(sentence, model, freqs) for sentence in test_x]\n",
        "actual = ['Bullish' if sentiment == 1 else 'Bearish' for sentiment in test_y]\n",
        "\n",
        "# Evaluate the model\n",
        "accuracy = accuracy_score(actual, predictions)\n",
        "print(f'Model Accuracy: {accuracy:.4f}')\n",
        "\n",
        "# Predict sentiment for a new sentence\n",
        "example_sentence = \"The company reported a significant increase in revenue.\"\n",
        "prediction = predict_stock_sentiment(example_sentence, model, freqs)\n",
        "print(f'Sentiment for the example sentence: {prediction}')\n"
      ]
    },
    {
      "cell_type": "code",
      "source": [],
      "metadata": {
        "id": "k0VWVoLdyHcG"
      },
      "execution_count": null,
      "outputs": []
    }
  ]
}